{
 "cells": [
  {
   "cell_type": "markdown",
   "id": "dd1e578b-940c-4d29-bd89-3e05001c9c15",
   "metadata": {},
   "source": [
    "There are 3 simple steps:\n",
    "> 1. The first one is the encoding of data\n",
    "> 2. The application of layers or ansatz\n",
    "> 3. Measurement"
   ]
  },
  {
   "cell_type": "markdown",
   "id": "6ed1be6f-578d-45b8-a0db-6efbb0a5a8bd",
   "metadata": {},
   "source": [
    "For the first steps, we have options like:\n",
    "1. Angle encoding\n",
    "2. Ampitude encoding\n",
    "3. Quantum phase encoding\n",
    "4. Hybrid encoding"
   ]
  },
  {
   "cell_type": "markdown",
   "id": "c4553f53-e160-4a95-bea1-ea13b5407b64",
   "metadata": {},
   "source": [
    "I am going to use angle encoding, but first identify the data sets. Split your data into two sets:\n",
    "1. The first one would be training data\n",
    "2. The second one would be testing data"
   ]
  },
  {
   "cell_type": "code",
   "execution_count": 3,
   "id": "747abe46-9ddf-434b-aacf-106e5135dbc4",
   "metadata": {},
   "outputs": [],
   "source": [
    "#import\n",
    "import pennylane as qml\n",
    "from pennylane import numpy as np\n",
    "import matplotlib.pyplot as plt"
   ]
  },
  {
   "cell_type": "code",
   "execution_count": 383,
   "id": "bfe76192-f2bb-4dac-9866-943d6f2043cc",
   "metadata": {},
   "outputs": [],
   "source": [
    "#here we have just 10 end points between 0 and 2π\n",
    "#the training and test data both have 10 data points\n",
    "\n",
    "# We create the training Data\n",
    "X = np.linspace(0, 2*np.pi, 20) # 5 input datapoints from 0 to 2pi\n",
    "# We tell the optimizer that this is an input datapoint,\n",
    "# and not a parameter to optimize over.\n",
    "X.requires_grad = False\n",
    "#the labels for our data points follow a sine fucntion\n",
    "Y = np.sin(X) # The outputs for the input datapoints\n",
    "\n",
    "# We create the test Data\n",
    "# 5 test datapoints, shifted from the training data by 0.2\n",
    "X_test = np.linspace(0.2, 2*np.pi+0.2, 20)\n",
    "Y_test = np.sin(X_test) # The outputs for the test datapoints"
   ]
  },
  {
   "cell_type": "code",
   "execution_count": 385,
   "id": "81ce0300-629a-4ca0-a7c7-a1b1a68e12c3",
   "metadata": {},
   "outputs": [],
   "source": [
    "# Step 1 - Create the device\n",
    "# Here we use the 'default.qubit' simulator and 1 qubit (wires=1)\n",
    "dev = qml.device('default.qubit', wires=1)"
   ]
  },
  {
   "cell_type": "code",
   "execution_count": 388,
   "id": "77c46200-3e59-4a91-983f-96312a2dfe26",
   "metadata": {},
   "outputs": [],
   "source": [
    "#encoding of data\n",
    "def state_preparation(x):\n",
    "    qml.RX(x, wires=0)"
   ]
  },
  {
   "cell_type": "code",
   "execution_count": 390,
   "id": "c2079770-054f-41c1-adf7-2f27e042a443",
   "metadata": {},
   "outputs": [],
   "source": [
    "#encoding of data\n",
    "#def state_preparation(x):\n",
    " #   qml.PhaseShift(x, wires=0)"
   ]
  },
  {
   "cell_type": "markdown",
   "id": "0e4f34f9-97a2-406b-8f4d-84e38faf98d2",
   "metadata": {},
   "source": [
    "In the second step, we have to implement a quantum circuit. There are several options available for this task.\n",
    "1. Quantum Phase Estimation\n",
    "2. Variational Quantum Circuit\n",
    "3. Quantum Fourier Transform\n",
    "\n",
    "Let's go with VQC approach. We know from tutorials that in this approach, we first have to define layers then we will define the quantum circuit."
   ]
  },
  {
   "cell_type": "markdown",
   "id": "47a90363-4e1d-4b44-9b9d-e55d7071a8fc",
   "metadata": {},
   "source": [
    "## Tunning the circuit a bit"
   ]
  },
  {
   "cell_type": "code",
   "execution_count": 394,
   "id": "87ef88e2-cfee-4fbc-b37a-b1a9090c943e",
   "metadata": {},
   "outputs": [],
   "source": [
    "#step 2 would be to define\n",
    "#def layer(params):\n",
    " #   qml.Rot(*params[0], wires=0)\n",
    "#now we will come towards our variational circuit\n",
    "#@qml.qnode(dev)\n",
    "#def circuit(params, x):\n",
    " #   state_preparation(x)\n",
    "#\n",
    " #   for param in params:\n",
    "  #      layer(param)\n",
    "\n",
    "   # return qml.expval(qml.PauliZ(0))"
   ]
  },
  {
   "cell_type": "code",
   "execution_count": 396,
   "id": "bef79e40-31c3-4a0a-a226-922a74e77b46",
   "metadata": {},
   "outputs": [],
   "source": [
    "num_layers = 2\n"
   ]
  },
  {
   "cell_type": "code",
   "execution_count": 398,
   "id": "e3173599-1ab6-4c36-b19e-b71d08d7599d",
   "metadata": {},
   "outputs": [],
   "source": [
    "#now we will come towards our variational circuit\n",
    "#@qml.qnode(dev)\n",
    "#def circuit(params, x):\n",
    " #   state_preparation(x)\n",
    "\n",
    "  #  for layer in range(num_layers):\n",
    "   #     qml.Rot(params[layer][0], params[layer][1], params[layer][2], wires=0)\n",
    "    #return qml.expval(qml.PauliZ(0))"
   ]
  },
  {
   "cell_type": "markdown",
   "id": "7fa7c98c-12a7-4c87-b7df-61a46be4b09c",
   "metadata": {},
   "source": [
    "## need to do something about the circuit in terms of params"
   ]
  },
  {
   "cell_type": "code",
   "execution_count": 401,
   "id": "8344d5c0-2884-4fc1-996b-6d3b2500d266",
   "metadata": {},
   "outputs": [],
   "source": [
    "#def layer(layer_weights):\n",
    " #   for wire in range(1):\n",
    "  #      qml.Rot(*layer_weights[wire], wires=wire)"
   ]
  },
  {
   "cell_type": "code",
   "execution_count": 403,
   "id": "b4de0757-41d0-47c6-9ea7-7062d322e5f0",
   "metadata": {},
   "outputs": [],
   "source": [
    "#now we will come towards our variational circuit\n",
    "@qml.qnode(dev)\n",
    "def circuit(params, x):\n",
    "    state_preparation(x)\n",
    "    #qml.Rot(params[0], params[1], params[2], wires=0)\n",
    "    #for layer in range(num_layers):\n",
    "     #   qml.Rot(params[layer][0], params[layer][1], params[layer][2], wires=0)\n",
    "    qml.Rot(params[0], params[1], params[2], wires=0)\n",
    "   # for param in params:\n",
    "    #    layer(param)\n",
    "    return qml.expval(qml.PauliZ(0))"
   ]
  },
  {
   "cell_type": "markdown",
   "id": "5892f29f-37e6-4f34-a50b-abe008024956",
   "metadata": {},
   "source": [
    "Now the next step would be to involve classical post-processing. For this we will introduce cost and loss function."
   ]
  },
  {
   "cell_type": "code",
   "execution_count": 406,
   "id": "d7226434-f6d1-4ad7-8dd5-0f45287ad093",
   "metadata": {},
   "outputs": [],
   "source": [
    "# Step 3 - Classical Pre/Postprocessing\n",
    "def loss_func(predictions):\n",
    "    # This is a postprocessing step. Here we use a least squares metric\n",
    "    # based on the predictions of the quantum circuit and the outputs\n",
    "    # of the training data points.\n",
    "\n",
    "    total_losses = 0\n",
    "    for i in range(len(Y)):\n",
    "        output = Y[i]\n",
    "        prediction = predictions[i]\n",
    "        loss = (prediction - output)**2\n",
    "        total_losses += loss\n",
    "    return total_losses"
   ]
  },
  {
   "cell_type": "code",
   "execution_count": 408,
   "id": "5485426d-3c62-48f6-af13-ba13d28fe7b5",
   "metadata": {},
   "outputs": [],
   "source": [
    "# Step 4 - Define your cost function, including any classical pre/postprocessing\n",
    "def cost_fn(params):\n",
    "    # We get the predictions of the quantum circuit for a specific\n",
    "    # set of parameters along the entire input dataset\n",
    "    predictions = [circuit(params, x)  for x in X]\n",
    "    # We calculate the cost including any classical postprocessing\n",
    "    cost = loss_func(predictions)\n",
    "    return cost"
   ]
  },
  {
   "cell_type": "markdown",
   "id": "bffc71ec-5e4b-4a04-a6da-c5ebfc304b26",
   "metadata": {},
   "source": [
    "Now we are moving towards final steps, we have to define some optimizer. Let's have a look at the optimizer provided by PennyLane. I'm going to use AddAGrad optimizer. "
   ]
  },
  {
   "cell_type": "code",
   "execution_count": 411,
   "id": "aafa9858-731e-4aa3-a1c1-a4dcea9d8926",
   "metadata": {},
   "outputs": [],
   "source": [
    "# Steps 5.1 and 5.2  - We define the optimizer\n",
    "opt = qml.GradientDescentOptimizer(stepsize=0.035)"
   ]
  },
  {
   "cell_type": "code",
   "execution_count": 413,
   "id": "c7a09fc3-b893-477b-a0a8-8f8f1939971f",
   "metadata": {},
   "outputs": [],
   "source": [
    "num_qubits = 1\n",
    "num_layers = 2\n",
    "#params = 0.01 * np.random.randn(num_layers, num_qubits, 3, requires_grad=True)"
   ]
  },
  {
   "cell_type": "code",
   "execution_count": 415,
   "id": "634b9227-d259-4dd3-8319-d42b17859649",
   "metadata": {},
   "outputs": [],
   "source": [
    "# Step 5.3 We make an initial guess for the parameters\n",
    "params = np.array([0.1,0.1,0.1],requires_grad=True)"
   ]
  },
  {
   "cell_type": "code",
   "execution_count": 417,
   "id": "fabe68ca-b859-45f7-b850-c5986e1bed13",
   "metadata": {},
   "outputs": [
    {
     "name": "stdout",
     "output_type": "stream",
     "text": [
      "Step = 0 Cost = 19.949010667543778\n",
      "Step = 10 Cost = 0.07506389121242282\n",
      "Step = 20 Cost = 0.01525761217767553\n",
      "Step = 30 Cost = 0.006419162830290656\n",
      "Step = 40 Cost = 0.0035241327081622226\n",
      "Step = 50 Cost = 0.002225522018171808\n",
      "Step = 60 Cost = 0.0015327236301119096\n",
      "Step = 70 Cost = 0.0011198078565069563\n",
      "Step = 80 Cost = 0.0008539496802029551\n",
      "Step = 90 Cost = 0.0006727373846035483\n"
     ]
    }
   ],
   "source": [
    "# Step 5.4 - We iterate over a number of defined steps (100)\n",
    "for i in range (100):\n",
    "    # Over each step the parameters change to give a better cost\n",
    "    params, prev_cost = opt.step_and_cost(cost_fn,params)\n",
    "    if i%10 == 0:\n",
    "         # We print the result after every 10 steps\n",
    "        print(f'Step = {i} Cost = {cost_fn(params)}')"
   ]
  },
  {
   "cell_type": "code",
   "execution_count": 418,
   "id": "44ea9264-14c7-46d1-8aa7-04feb34015dd",
   "metadata": {},
   "outputs": [],
   "source": [
    "# Step 6 - Test and graph your results!\n",
    "test_predictions = []\n",
    "for x_test in X_test:\n",
    "    prediction = circuit(params, x_test)\n",
    "    test_predictions.append(prediction)"
   ]
  },
  {
   "cell_type": "code",
   "execution_count": 419,
   "id": "cf18e927-dc0e-4c98-9d38-8f0000a72b21",
   "metadata": {},
   "outputs": [
    {
     "data": {
      "image/png": "[encoded data removed]",
      "text/plain": [
       "<Figure size 640x480 with 1 Axes>"
      ]
     },
     "metadata": {},
     "output_type": "display_data"
    }
   ],
   "source": [
    "#plotting \n",
    "\n",
    "fig = plt.figure()\n",
    "ax1 = fig.add_subplot(111)\n",
    "\n",
    "ax1.scatter(X, Y, s=30, c='b', marker=\"s\", label='Train outputs')\n",
    "ax1.scatter(X_test,Y_test, s=60, c='r', marker=\"o\", label='Test outputs')\n",
    "ax1.scatter(X_test,test_predictions, s=30, c='k', marker=\"x\", label='Test predicitons')\n",
    "plt.xlabel(\"Inputs\")\n",
    "plt.ylabel(\"Outputs\")\n",
    "plt.title(\"QML results\")\n",
    "\n",
    "plt.legend(loc='upper right');\n",
    "plt.show()"
   ]
  },
  {
   "cell_type": "markdown",
   "id": "6f177dd1-0a11-4f96-b8b5-8ffbff5b44df",
   "metadata": {},
   "source": [
    "The model predicted solely wrong values :("
   ]
  },
  {
   "cell_type": "markdown",
   "id": "2aeefde1-9a33-4dcc-ba67-3222f8d77c2f",
   "metadata": {},
   "source": [
    "## Changing the step size significantly improves the model."
   ]
  },
  {
   "cell_type": "markdown",
   "id": "1d8125f6-c802-4b1e-92c6-47c2ed45c026",
   "metadata": {},
   "source": [
    "Increasing the number of points and changing the step-size significantly improved the outcome"
   ]
  },
  {
   "cell_type": "code",
   "execution_count": null,
   "id": "e3f6031b-95c5-4f1d-81f4-a2bb8eb7a564",
   "metadata": {},
   "outputs": [],
   "source": []
  }
 ],
 "metadata": {
  "kernelspec": {
   "display_name": "Pennylane",
   "language": "python",
   "name": "pennylane"
  },
  "language_info": {
   "codemirror_mode": {
    "name": "ipython",
    "version": 3
   },
   "file_extension": ".py",
   "mimetype": "text/x-python",
   "name": "python",
   "nbconvert_exporter": "python",
   "pygments_lexer": "ipython3",
   "version": "3.12.4"
  }
 },
 "nbformat": 4,
 "nbformat_minor": 5
}
